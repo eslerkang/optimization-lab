{
 "cells": [
  {
   "cell_type": "code",
   "execution_count": 2,
   "metadata": {},
   "outputs": [],
   "source": [
    "import pandas as pd\n",
    "\n",
    "types = [1, 2, 3]\n",
    "\n",
    "names = [f\"Lot {i}\" for i in range(1, 16)]\n",
    "\n",
    "pairs = [(t, n, 0) for t in types for n in names]\n",
    "\n",
    "data = pd.DataFrame(pairs, columns=['type', 'name', 'release'])\n",
    "\n",
    "data.to_csv('lot_data.csv', index=False)\n"
   ]
  },
  {
   "cell_type": "code",
   "execution_count": null,
   "metadata": {},
   "outputs": [],
   "source": []
  }
 ],
 "metadata": {
  "kernelspec": {
   "display_name": ".venv",
   "language": "python",
   "name": "python3"
  },
  "language_info": {
   "codemirror_mode": {
    "name": "ipython",
    "version": 3
   },
   "file_extension": ".py",
   "mimetype": "text/x-python",
   "name": "python",
   "nbconvert_exporter": "python",
   "pygments_lexer": "ipython3",
   "version": "3.11.4"
  }
 },
 "nbformat": 4,
 "nbformat_minor": 2
}
