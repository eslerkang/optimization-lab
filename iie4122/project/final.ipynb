{
 "cells": [
  {
   "cell_type": "code",
   "execution_count": 18,
   "metadata": {},
   "outputs": [
    {
     "name": "stdout",
     "output_type": "stream",
     "text": [
      "37.5511694,126.9882266\n",
      "37.579617,126.977041\n",
      "Error: 404\n"
     ]
    },
    {
     "ename": "TypeError",
     "evalue": "unsupported operand type(s) for /: 'NoneType' and 'int'",
     "output_type": "error",
     "traceback": [
      "\u001b[0;31m---------------------------------------------------------------------------\u001b[0m",
      "\u001b[0;31mTypeError\u001b[0m                                 Traceback (most recent call last)",
      "Cell \u001b[0;32mIn[18], line 57\u001b[0m\n\u001b[1;32m     55\u001b[0m departure_time \u001b[38;5;241m=\u001b[39m \u001b[38;5;28mint\u001b[39m(datetime\u001b[38;5;241m.\u001b[39mdatetime\u001b[38;5;241m.\u001b[39mnow()\u001b[38;5;241m.\u001b[39mtimestamp()) \u001b[38;5;241m*\u001b[39m \u001b[38;5;241m1000\u001b[39m  \u001b[38;5;66;03m# milliseconds\u001b[39;00m\n\u001b[1;32m     56\u001b[0m travel_time, cost \u001b[38;5;241m=\u001b[39m get_travel_info(origin, destination, departure_time, mode\u001b[38;5;241m=\u001b[39m\u001b[38;5;124m\"\u001b[39m\u001b[38;5;124mtransit\u001b[39m\u001b[38;5;124m\"\u001b[39m)\n\u001b[0;32m---> 57\u001b[0m \u001b[38;5;28mprint\u001b[39m(\u001b[38;5;124mf\u001b[39m\u001b[38;5;124m\"\u001b[39m\u001b[38;5;124mTravel time: \u001b[39m\u001b[38;5;132;01m{\u001b[39;00m\u001b[43mtravel_time\u001b[49m\u001b[38;5;250;43m \u001b[39;49m\u001b[38;5;241;43m/\u001b[39;49m\u001b[38;5;250;43m \u001b[39;49m\u001b[38;5;241;43m60\u001b[39;49m\u001b[38;5;132;01m}\u001b[39;00m\u001b[38;5;124m minutes, Cost: \u001b[39m\u001b[38;5;132;01m{\u001b[39;00mcost\u001b[38;5;132;01m}\u001b[39;00m\u001b[38;5;124m KRW\u001b[39m\u001b[38;5;124m\"\u001b[39m)\n",
      "\u001b[0;31mTypeError\u001b[0m: unsupported operand type(s) for /: 'NoneType' and 'int'"
     ]
    }
   ],
   "source": [
    "import os, json, requests, datetime\n",
    "import pandas as pd\n",
    "\n",
    "geo_info = pd.read_csv(\"./geo_info.csv\")\n",
    "origin = f'{geo_info.iloc[0][\"Latitude\"]},{geo_info.iloc[0][\"Longitude\"]}'\n",
    "destination = f'{geo_info.iloc[1][\"Latitude\"]},{geo_info.iloc[1][\"Longitude\"]}'\n",
    "\n",
    "print(origin)\n",
    "print(destination)\n",
    "\n",
    "# 네이버 지도 API 키 설정\n",
    "SECRET_PATH = \"./.secret.json\"\n",
    "\n",
    "client_id = None\n",
    "client_secret = None\n",
    "\n",
    "with open(SECRET_PATH) as f:\n",
    "    secrets = json.load(f)\n",
    "    client_id = secrets[\"CLIENT_ID\"]\n",
    "    client_secret = secrets[\"CLIENT_SECRET\"]\n",
    "\n",
    "\n",
    "def get_travel_info(origin, destination, departure_time, mode):\n",
    "    url = \"https://naveropenapi.apigw.ntruss.com/map-direction/v1/driving\" if mode == \"driving\" else \"https://naveropenapi.apigw.ntruss.com/map-direction/v1/walking\" if mode == \"walking\" else \"https://naveropenapi.apigw.ntruss.com/map-direction/v1/transit\"\n",
    "    headers = {\n",
    "        \"X-NCP-APIGW-API-KEY-ID\": client_id,\n",
    "        \"X-NCP-APIGW-API-KEY\": client_secret\n",
    "    }\n",
    "    params = {\n",
    "        \"start\": origin,\n",
    "        \"goal\": destination,\n",
    "        \"option\": \"traoptimal\" if mode == \"driving\" else \"fast\" if mode == \"transit\" else \"shortest\",\n",
    "        \"departureTime\": departure_time\n",
    "    }\n",
    "    response = requests.get(url, headers=headers, params=params)\n",
    "    if response.status_code == 200:\n",
    "        result = response.json()\n",
    "        if mode == \"driving\":\n",
    "            print(result)\n",
    "            travel_time = result['route']['traoptimal'][0]['summary']['duration']  # milliseconds\n",
    "            cost = result['route']['traoptimal'][0]['summary'].get('tollFare', 0) * 1.2  # 예상 택시 요금 (대략 1.2배)\n",
    "        elif mode == \"walking\":\n",
    "            travel_time = result['route']['traoptimal'][0]['summary']['duration']  # milliseconds\n",
    "            cost = 0\n",
    "        elif mode == \"transit\":\n",
    "            travel_time = result['route']['traoptimal'][0]['summary']['duration']  # milliseconds\n",
    "            cost = result['route']['traoptimal'][0]['summary']['fare']\n",
    "        return travel_time / 1000, cost  # seconds, cost\n",
    "    else:\n",
    "        print(\"Error:\", response.status_code)\n",
    "        return None, None\n",
    "\n",
    "# 예시: 특정 시간에 A에서 B로 이동하는 데 걸리는 시간 및 비용 계산\n",
    "departure_time = int(datetime.datetime.now().timestamp()) * 1000  # milliseconds\n",
    "travel_time, cost = get_travel_info(origin, destination, departure_time, mode=\"transit\")\n",
    "print(f\"Travel time: {travel_time / 60} minutes, Cost: {cost} KRW\")\n"
   ]
  },
  {
   "cell_type": "code",
   "execution_count": null,
   "metadata": {},
   "outputs": [],
   "source": []
  }
 ],
 "metadata": {
  "kernelspec": {
   "display_name": ".venv",
   "language": "python",
   "name": "python3"
  },
  "language_info": {
   "codemirror_mode": {
    "name": "ipython",
    "version": 3
   },
   "file_extension": ".py",
   "mimetype": "text/x-python",
   "name": "python",
   "nbconvert_exporter": "python",
   "pygments_lexer": "ipython3",
   "version": "3.11.4"
  }
 },
 "nbformat": 4,
 "nbformat_minor": 2
}
